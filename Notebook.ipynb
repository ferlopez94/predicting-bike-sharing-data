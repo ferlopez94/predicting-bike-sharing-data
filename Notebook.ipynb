{
 "cells": [
  {
   "cell_type": "markdown",
   "metadata": {},
   "source": [
    "# Predicting bike sharing data\n",
    "\n",
    "In this project, we'll build a neural network and use it to predict daily bike rental ridership.\n",
    "\n",
    "## Index\n",
    "- [Load and prepare the data](#load-data)\n",
    "- [Checking out the data](#check-data)\n",
    "- [Preparing the data](#prepare-data)\n",
    "- [Building the network](#build-network)\n",
    "- [Training the network](#train-network)\n",
    "- [Checking out predictions](#predictions)"
   ]
  },
  {
   "cell_type": "code",
   "execution_count": null,
   "metadata": {},
   "outputs": [],
   "source": []
  }
 ],
 "metadata": {
  "kernelspec": {
   "display_name": "Python 3",
   "language": "python",
   "name": "python3"
  },
  "language_info": {
   "codemirror_mode": {
    "name": "ipython",
    "version": 3
   },
   "file_extension": ".py",
   "mimetype": "text/x-python",
   "name": "python",
   "nbconvert_exporter": "python",
   "pygments_lexer": "ipython3",
   "version": "3.6.4"
  }
 },
 "nbformat": 4,
 "nbformat_minor": 2
}
